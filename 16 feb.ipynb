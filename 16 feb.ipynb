{
 "cells": [
  {
   "cell_type": "code",
   "execution_count": null,
   "id": "36084798-095e-4086-8553-f14d477c5b89",
   "metadata": {},
   "outputs": [],
   "source": [
    "Ans1."
   ]
  },
  {
   "cell_type": "code",
   "execution_count": null,
   "id": "f4b4518d-91ac-4e7d-9b30-cb8ee084482e",
   "metadata": {},
   "outputs": [],
   "source": [
    "Database is an organized collection od data,so that it can be easily accessed and managed. The main purpose of database is to operate a large amount of information by storing ,retrieving,and managing data.\n",
    "\n",
    "SQL: 1.SQL is a relational database.i.e RDBMS 2.SQL databses have fixed or predefined schema. 3.SQL databases display data in form of tables. 4.SQL is used 'structured Query Language' to define and manipulate the data. 5.SQL database is best suited for complex queries. 6.Ex:Oracle,MYSQL,PostgreSQL etc.\n",
    "\n",
    "NOSQL: 1.NoSQl database are non-relational database. 2.NoSQL database have dynamic scchema. 3.NoSQL database dispaly data as collection of key-value pair.documents etc. 4.NoSQL databases is not so good for complex queries. 5.Ex: MongoDb,Cassandra etc."
   ]
  },
  {
   "cell_type": "code",
   "execution_count": null,
   "id": "589a44f3-2060-40d7-9547-35e1f5062c30",
   "metadata": {},
   "outputs": [],
   "source": [
    "Ans2."
   ]
  },
  {
   "cell_type": "code",
   "execution_count": null,
   "id": "94074eeb-a25d-49e5-b1ed-1d8b050efaf2",
   "metadata": {},
   "outputs": [],
   "source": [
    "DDL stands for 'Data Definition language',DDL command is used to create or modify the table.\n",
    "\n",
    "CREATE: This command is to create a new table in SQL. syntax: create table table_name( column_1 datatype, ... );\n",
    "\n",
    "DROP: This command is to remove existing table along with its structure from the database. syntax: drop table table_name;\n",
    "\n",
    "ALTER:\n",
    "This command is used to add,delete or change columns in the existing table.the user should the name of existing table name. syntax: alter table table_name add column_name datatype\n",
    "\n",
    "TRUNCATE: This command is used to remove all rows from the table ,but the structure of the table still exist. syntax: truncate table table_name;"
   ]
  },
  {
   "cell_type": "code",
   "execution_count": null,
   "id": "e5d31cfa-426d-42b0-a48a-418f0624a5f1",
   "metadata": {},
   "outputs": [],
   "source": [
    "Ans3."
   ]
  },
  {
   "cell_type": "code",
   "execution_count": null,
   "id": "3e6570f3-5eff-40f0-a23a-a143a602dd01",
   "metadata": {},
   "outputs": [],
   "source": [
    "DML is stands for 'Data Manipulation Language'.DML command is used to change the data present in sql database. we can easily access,store,modify,update,and delete the existing record from the database using DML command.\n",
    "\n",
    "INSERT: INSERT command is uset to insert the data in the existing table. Example: insert into student(stu_id,stu_name) values(001,\"bhanu\");\n",
    "\n",
    "UPDATE: update command is used to update existing data within a table. Example: update student set stu_name=\"ram\" where stu_id=001;\n",
    "\n",
    "DELETE: delete command is used to delete records from a database table. Example: delete from student where stu_id=001;"
   ]
  },
  {
   "cell_type": "code",
   "execution_count": null,
   "id": "b44373cf-f161-48be-856c-b6f14cf1dd2e",
   "metadata": {},
   "outputs": [],
   "source": [
    "Ans4."
   ]
  },
  {
   "cell_type": "code",
   "execution_count": null,
   "id": "ab574765-d8f4-4564-b3e4-89ac9bdd5fb4",
   "metadata": {},
   "outputs": [],
   "source": [
    "DQL stands for 'Data Query Language'.This command allows getting the data out from the database to perform operation Example: select emp_name from employee where age>20;"
   ]
  },
  {
   "cell_type": "code",
   "execution_count": null,
   "id": "ba22d56a-a46d-45de-832b-160e6be2e32c",
   "metadata": {},
   "outputs": [],
   "source": [
    "Ans5."
   ]
  },
  {
   "cell_type": "code",
   "execution_count": null,
   "id": "25d5f421-e06a-41ab-a323-9ee90ed65835",
   "metadata": {},
   "outputs": [],
   "source": [
    "Primary key:A Primary is unique key in table that ensure data in the specific column is unique.This column cannot have NULL values.\n",
    "\n",
    "Foreign Key: A foreign key is a column or group of column in a relational database table that provides a link between data in two tables."
   ]
  },
  {
   "cell_type": "code",
   "execution_count": null,
   "id": "1ae92820-076c-406e-b825-385f729b434e",
   "metadata": {},
   "outputs": [],
   "source": [
    "Ans6."
   ]
  },
  {
   "cell_type": "code",
   "execution_count": null,
   "id": "71562864-33b8-4c3e-a73e-a6a67151f6bf",
   "metadata": {},
   "outputs": [],
   "source": [
    "import musql.connector\n",
    "mydb=mysql.connector.connect(\n",
    "      host-'localhost',\n",
    "      user='abc',\n",
    "      password='password')\n",
    "\n",
    "print(mydb)\n",
    "\n",
    "cursor-mydb.cursor()\n",
    "\n",
    "cursor.execute(\"show databses\")\n",
    "\n",
    "for i in cursor:\n",
    "    print(i)"
   ]
  },
  {
   "cell_type": "code",
   "execution_count": null,
   "id": "df1cf179-87c4-4115-840d-248a2c87769b",
   "metadata": {},
   "outputs": [],
   "source": [
    "Ans7"
   ]
  }
 ],
 "metadata": {
  "kernelspec": {
   "display_name": "Python 3 (ipykernel)",
   "language": "python",
   "name": "python3"
  },
  "language_info": {
   "codemirror_mode": {
    "name": "ipython",
    "version": 3
   },
   "file_extension": ".py",
   "mimetype": "text/x-python",
   "name": "python",
   "nbconvert_exporter": "python",
   "pygments_lexer": "ipython3",
   "version": "3.10.6"
  }
 },
 "nbformat": 4,
 "nbformat_minor": 5
}
