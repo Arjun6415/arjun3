{
 "cells": [
  {
   "cell_type": "code",
   "execution_count": null,
   "id": "3a2f3cd1-5053-4034-b1cb-3e1a846d6308",
   "metadata": {},
   "outputs": [],
   "source": [
    "Ans1."
   ]
  },
  {
   "cell_type": "code",
   "execution_count": null,
   "id": "46b38a06-96fb-4ff2-a7e4-70a253649d2e",
   "metadata": {},
   "outputs": [],
   "source": [
    "Flask is a web framework that provides libraries to build lightweight web applications in python. It is developed by Armin Ronacher who leads an international group of python enthusiasts (POCCO). It is based on WSGI toolkit and jinja2 template engine. Flask is considered as a micro framework.\n",
    "\n",
    "Advantages of Python Flask\n",
    "\n",
    "1.It is a lightweight and modular design\n",
    "2.Contains a built-in development server and a fast debugger.\n",
    "3.Provides integrated unit testing support\n",
    "4.RESTful request dispatching.\n",
    "5.Jinja2 Template.\n",
    "6.Provides support for secure cookies."
   ]
  },
  {
   "cell_type": "code",
   "execution_count": null,
   "id": "e66b894f-4e49-4f38-a7ad-7ec582b52e3b",
   "metadata": {},
   "outputs": [],
   "source": [
    "Ans2."
   ]
  },
  {
   "cell_type": "code",
   "execution_count": null,
   "id": "79f45940-12c6-424a-9ef2-93a0845d7c42",
   "metadata": {},
   "outputs": [],
   "source": [
    "from flask import Flask\n",
    "  \n",
    "app = Flask(__name__)\n",
    "\n",
    "@app.route('/')\n",
    "def hello_world():\n",
    "    return \"<h1>Hello World!!</h1>\"\n",
    "\n",
    "if __name__ == '__main__':\n",
    "    app.run(debug=True)"
   ]
  },
  {
   "cell_type": "code",
   "execution_count": null,
   "id": "4d1de5d5-7c67-4d8e-bb6c-c3cf45a9f794",
   "metadata": {},
   "outputs": [],
   "source": [
    "Ans3."
   ]
  },
  {
   "cell_type": "code",
   "execution_count": null,
   "id": "0d86e1c9-9f7e-46cb-93de-7cd3c49cbe47",
   "metadata": {},
   "outputs": [],
   "source": [
    "App Routing means mapping the URLs to a specific function that will handle the logic for that URL. Modern web frameworks use more meaningful URLs to help users remember the URLs and make navigation simpler.\n",
    "\n",
    "Example: In our application, the URL (“/”) is associated with the root URL. So if our site’s domain was www.example.org and we want to add routing to “www.example.com/test”, we would use “/hello”.\n",
    "\n",
    "To bind a function to an URL path we use the app.route decorator."
   ]
  },
  {
   "cell_type": "code",
   "execution_count": null,
   "id": "1ffa9eed-5c31-4bea-b897-c657d2674cc6",
   "metadata": {},
   "outputs": [],
   "source": [
    "Ans4."
   ]
  },
  {
   "cell_type": "code",
   "execution_count": null,
   "id": "099107ea-83d0-42bf-a498-20a73e924db6",
   "metadata": {},
   "outputs": [],
   "source": [
    "\n",
    "from flask import Flask\n",
    "  \n",
    "app = Flask(__name__)\n",
    "\n",
    "@app.route('/')\n",
    "def details():\n",
    "    Company Name=\"ABC Corporation\"\n",
    "    Location=\"India\"\n",
    "    ContactDetail=999-999-9999\n",
    "    return \"The company details is {} {} {}\".format(Company Name,Location,ContactDetail) \n",
    "\n",
    "@app.route('/welcome')\n",
    "def welcome():\n",
    "    return \"<h1>Welcome to my company</h1>\"\n",
    "\n",
    "\n",
    "if __name__ == '__main__':\n",
    "    app.run(debug=True)"
   ]
  },
  {
   "cell_type": "code",
   "execution_count": null,
   "id": "9507b66a-0fc1-4418-b4ea-6fa9eeb7e919",
   "metadata": {},
   "outputs": [],
   "source": [
    "Ans5."
   ]
  },
  {
   "cell_type": "code",
   "execution_count": null,
   "id": "c3bec0b3-1653-4f29-9d64-656d1eeaeb00",
   "metadata": {},
   "outputs": [],
   "source": [
    "from flask import Flask,redirect,url_for\n",
    "\n",
    "app=Flask(__name__)\n",
    "\n",
    "@app.route('/')\n",
    "def welcome():\n",
    "    return \"welcome to my duniya\"\n",
    "\n",
    "\n",
    "\n",
    "@app.route('/student')\n",
    "def student():\n",
    "    return \"wlcm beta\"\n",
    "\n",
    "@app.route('/faculty')\n",
    "def faculty():\n",
    "    return \"wlcm sir\"\n",
    "\n",
    "@app.route('/user/<name>')\n",
    "def user(name):\n",
    "    if name==student:\n",
    "        return redirect(url_for('student'))\n",
    "    if name==faculty:\n",
    "        return redirect(url_for('faculty'))\n",
    "\n",
    "\n",
    "if __name__ == '__main__':\n",
    "    app.run(debug=True)"
   ]
  }
 ],
 "metadata": {
  "kernelspec": {
   "display_name": "Python 3 (ipykernel)",
   "language": "python",
   "name": "python3"
  },
  "language_info": {
   "codemirror_mode": {
    "name": "ipython",
    "version": 3
   },
   "file_extension": ".py",
   "mimetype": "text/x-python",
   "name": "python",
   "nbconvert_exporter": "python",
   "pygments_lexer": "ipython3",
   "version": "3.10.6"
  }
 },
 "nbformat": 4,
 "nbformat_minor": 5
}
