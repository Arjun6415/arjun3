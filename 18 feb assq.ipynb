{
 "cells": [
  {
   "cell_type": "code",
   "execution_count": null,
   "id": "816216d2-997d-4759-a2ea-6509a421ddf1",
   "metadata": {},
   "outputs": [],
   "source": [
    "Ans1."
   ]
  },
  {
   "cell_type": "code",
   "execution_count": null,
   "id": "10b86a2e-904f-40c2-b14b-54bbfb20e570",
   "metadata": {},
   "outputs": [],
   "source": [
    "Application Programming Interface (API) is a software interface that allows two applications to interact with each other without any user intervention. API is a collection of software functions and procedures. In simple terms, API means a software code that can be accessed or executed. API is defined as a code that helps two different software’s to communicate and exchange data with each other. It offers products or services to communicate with other products and services without having to know how they’re implemented.\n",
    "\n",
    "Example: Travel Booking,Log-in using xyz etc."
   ]
  },
  {
   "cell_type": "code",
   "execution_count": null,
   "id": "8884179d-6d44-4396-bf04-22582ae71e56",
   "metadata": {},
   "outputs": [],
   "source": [
    "Ans2."
   ]
  },
  {
   "cell_type": "code",
   "execution_count": null,
   "id": "ef1e0692-f150-4d1f-9c58-823109dc3c21",
   "metadata": {},
   "outputs": [],
   "source": [
    "Advantages of APIs\n",
    "\n",
    "Efficiency: API produces efficient, quicker, and more reliable results than the outputs produced by human beings in an organization.\n",
    "\n",
    "Flexible delivery of services: API provides fast and flexible delivery of services according to developers’ requirements.\n",
    "\n",
    "Integration: The best feature of API is that it allows the movement of data between various sites and thus enhances the integrated user experience.\n",
    "\n",
    "Automation: As API makes use of robotic computers rather than humans, it produces better and more automated results.\n",
    "\n",
    "New functionality: While using API the developers find new tools and functionality for API exchanges.\n",
    "\n",
    "Disadvantages of APIs\n",
    "\n",
    "Cost: Developing and implementing API is costly at times and requires high maintenance and support from developers.\n",
    "\n",
    "Security issues: Using API adds another layer of surface which is then prone to attacks, and hence the security risk problem is common in APIs."
   ]
  },
  {
   "cell_type": "code",
   "execution_count": null,
   "id": "f51b7c53-ad5a-412a-b25a-97321594495d",
   "metadata": {},
   "outputs": [],
   "source": [
    "Ans3."
   ]
  },
  {
   "cell_type": "code",
   "execution_count": null,
   "id": "8a09173f-2ac9-4ecc-ab04-d845880f28e6",
   "metadata": {},
   "outputs": [],
   "source": [
    "A Web API also called Web Services is an extensively used API over the web and can be easily accessed using the HTTP protocols. A Web API is an open-source interface and can be used by a large number of clients through their phones, tablets, or PCs.\n",
    "\n",
    "Web service is a collection of open source protocols and standards used for exchanging data between systems or applications, whereas API is a software interface that allows two applications to interact with each other without any user involvement.\n",
    "\n",
    "Web service is used for REST, SOAP, and XML-RPC for communication, while API is used for any style of communication.\n",
    "\n",
    "Web service supports only HTTP protocol, whereas API supports HTTP/HTTPS protocol.\n",
    "\n",
    "Web service supports XML, while API supports XML and JSON.\n",
    "\n",
    "All Web services are APIs, but all APIs are not web services."
   ]
  },
  {
   "cell_type": "code",
   "execution_count": null,
   "id": "7129d5e1-033f-47e6-b266-afebabbb2d4c",
   "metadata": {},
   "outputs": [],
   "source": [
    "Ans4."
   ]
  },
  {
   "cell_type": "code",
   "execution_count": null,
   "id": "68d55732-a49e-4bca-acd8-dd1fd9846885",
   "metadata": {},
   "outputs": [],
   "source": [
    "SOAP stands for Simple Object Access Protocol is a network platform used in a web service to exchange or communicate data between two different machines on a network. It uses the XML format of data to transfer messages over the HTTP protocol. In Web services, SOAP allows the user request to interact with other programming languages. In this way, it provides a way to communicate between applications running on different platforms (Operating system), with programming languages and technologies used in web service.\n",
    "\n",
    "REST stands for REpresentational State Transfer. It is an architectural style that provides standards between computer systems on a web service. It is a set of constraints used to create a lightweight, scalable, and maintainable web service that facilitates easy communication. It is a set of constraints used to create a lightweight, scalable and maintainable web service that makes easy communication with each other. All web services are based on the REST; hence it is called a RESTful service. The purpose of developing a RESTful web service is to make the web service more effective. The Roy Fielding develops it in 2000, who also developed the HTTP protocol. It does not depend on a specific protocol to use, but it's used HTTP/HTTPS."
   ]
  },
  {
   "cell_type": "code",
   "execution_count": null,
   "id": "31273506-5678-49ce-b8e7-48e73336995b",
   "metadata": {},
   "outputs": [],
   "source": [
    "Ans5."
   ]
  },
  {
   "cell_type": "code",
   "execution_count": null,
   "id": "8bfb5acd-4ff4-4f49-8068-d18430850d2f",
   "metadata": {},
   "outputs": [],
   "source": [
    "SOAP is a protocol.\tREST is an architectural style.\n",
    "\n",
    "SOAP stands for Simple Object Access Protocol.\tREST stands for REpresentational State Transfer.\n",
    "\n",
    "SOAP can't use REST because it is a protocol.\tREST can use SOAP web services because it is a concept and can use any protocol\n",
    "like HTTP, SOAP.\n",
    "\n",
    "SOAP defines standards to be strictly followed.\tREST does not define too much standards like SOAP.\n",
    "\n",
    "\n",
    "SOAP requires more bandwidth and resource than REST.REST requires less bandwidth and resource than SOAP.\n",
    "\n",
    "SOAP defines its own security.\tRESTful web services inherits security measures from the underlying transport."
   ]
  },
  {
   "cell_type": "code",
   "execution_count": null,
   "id": "ca4d842e-3636-445b-b7fa-9c5bd0de4484",
   "metadata": {},
   "outputs": [],
   "source": []
  }
 ],
 "metadata": {
  "kernelspec": {
   "display_name": "Python 3 (ipykernel)",
   "language": "python",
   "name": "python3"
  },
  "language_info": {
   "codemirror_mode": {
    "name": "ipython",
    "version": 3
   },
   "file_extension": ".py",
   "mimetype": "text/x-python",
   "name": "python",
   "nbconvert_exporter": "python",
   "pygments_lexer": "ipython3",
   "version": "3.10.6"
  }
 },
 "nbformat": 4,
 "nbformat_minor": 5
}
