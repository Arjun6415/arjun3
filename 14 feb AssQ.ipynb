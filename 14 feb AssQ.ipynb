{
 "cells": [
  {
   "cell_type": "code",
   "execution_count": null,
   "id": "b6df91d8-3b36-486d-b30b-3ccef16b4578",
   "metadata": {},
   "outputs": [],
   "source": [
    "Ans1."
   ]
  },
  {
   "cell_type": "code",
   "execution_count": null,
   "id": "f054bfae-2bf3-4c47-bc33-0b3d1ca43343",
   "metadata": {},
   "outputs": [],
   "source": [
    " Mechanism that allows mutiple threads of execution to run concurrently within a single process.A thread is a separate flow of execution within a program, and muiltithreading allows for parallelism and concurrency, making it possible to perform multiple tasks simultaneously.\n",
    "    \n",
    "    1.Improving performance by running multiple CPU-bound or I/O-bound tasks concurrently.\n",
    "    2.Creating responsive and interactive user interfaces that can handle multiple input and output events.\n",
    "    3.Managing long-running operations that would otherwise block the main program thread,such as network communication,file I/O,or database access.\n",
    "    \n",
    "    In python,the module used to handle threads is called\"threading\".This module provides a way to create and manage threads,synchronize their operati"
   ]
  },
  {
   "cell_type": "code",
   "execution_count": null,
   "id": "f11a1792-4e02-4b30-a35e-0b38842dd61b",
   "metadata": {},
   "outputs": [],
   "source": [
    "Ans2."
   ]
  },
  {
   "cell_type": "code",
   "execution_count": null,
   "id": "47af68cb-5115-4d1a-bc5c-e89101169aed",
   "metadata": {},
   "outputs": [],
   "source": [
    "The threading module is used in python to crate and manage threads in a multi-threaded application.It provides a way to create new threads,synchronization their operations,and communication between them.\n",
    "        \n",
    "        1.activeCount()-This function returns the number of active thread objects in the current thread's thread control block.It can be useful for debugging purposes,or to ensure that all threads have completed before exiting a program.\n",
    "        2.currentThread()-This function returns a reference to the current thread object which can be useful for identifying the current thread's name,thread ID,or other attributes.\n",
    "        3.enumerate()-This function returns a list of all active thread objects in the current process.It can be used to get information about all th"
   ]
  },
  {
   "cell_type": "code",
   "execution_count": null,
   "id": "7f5799ba-2bda-4c26-a3b1-9dcf4ed686a9",
   "metadata": {},
   "outputs": [],
   "source": [
    "Ans3."
   ]
  },
  {
   "cell_type": "code",
   "execution_count": null,
   "id": "5e6240c9-f02d-45dd-9bf6-6d398e513220",
   "metadata": {},
   "outputs": [],
   "source": [
    "1.run()-This method is called when a thread is started using the 'start()'method.It contains this code that will be executed in the thread and can be overriden in a subclass to implement custom bahaviour.It is important to note that you should not call this method directly,but instead use the'start()'method to start the thread.\n",
    "\n",
    "2.start()-This method starts the executionof the thread.when this method is called,a new thread is crated and the'run()'method of the thread is executed in parallel with the main thread.It is important to note that you can only call the 'start()' method once on a thread object.\n",
    "\n",
    "3.join()-This method blocks the calling thread until the thread on which itis called has completed its execution.It can be used to synchronization the execution of multiple threasa in a program and to ensure that all threads have completed before the program teminates.The 'join(0' method can also accept an optional timeout parameter,which specifies the maximum amount of the time to wait for the thread to complete before continuing with the execution of the calling thread.\n",
    "\n",
    "4.isAlive()-This method returns a boolean value indicating whether the thread is currently executing or not.If the thread has not been started or has "
   ]
  },
  {
   "cell_type": "code",
   "execution_count": null,
   "id": "ae87b230-c705-4cf6-8705-91b080e35ae4",
   "metadata": {},
   "outputs": [],
   "source": [
    "Ans4."
   ]
  },
  {
   "cell_type": "code",
   "execution_count": 5,
   "id": "3f5a3a6e-df03-47e6-b82b-586d571e757a",
   "metadata": {},
   "outputs": [
    {
     "name": "stdout",
     "output_type": "stream",
     "text": [
      "Square of 1 is 1\n",
      "Square of 2 is 4\n",
      "Square of 3 is 9\n",
      "Square of 4 is 16\n",
      "Square of 5 is 25\n",
      "Cube of 1 is 1\n",
      "Cube of 2 is 8\n",
      "Cube of 3 is 27\n",
      "Cube of 4 is 64\n",
      "Cube of 5 is 125\n",
      "Done\n"
     ]
    }
   ],
   "source": [
    " import threading\n",
    "    \n",
    "def print_squares():\n",
    "        for i in range(1, 6):\n",
    "            print(f\"Square of {i} is {i**2}\")\n",
    "            \n",
    "def print_cubes():\n",
    "        for i in range(1, 6):\n",
    "            print(f\"Cube of {i} is {i**3}\")\n",
    "            \n",
    "if __name__ == \"__main__\":\n",
    "        t1 = threading.Thread(target=print_squares)\n",
    "        t2 = threading.Thread(target=print_cubes)\n",
    "        \n",
    "        t1.start()\n",
    "        t2.start()\n",
    "        \n",
    "        t1.join()\n",
    "        t2.join()\n",
    "        \n",
    "        print(\"Done\")"
   ]
  },
  {
   "cell_type": "code",
   "execution_count": null,
   "id": "a25f67e2-a77d-49b1-999b-bcc07d1212ea",
   "metadata": {},
   "outputs": [],
   "source": [
    "Ans5."
   ]
  },
  {
   "cell_type": "code",
   "execution_count": null,
   "id": "1912893d-f4fe-418a-a12e-df0e90fec9bb",
   "metadata": {},
   "outputs": [],
   "source": [
    "Multithrading is a powerful programming technique that allows a program to execute multiple threads of control con currently,within the same process.\n",
    "    \n",
    "    Advantages:\n",
    "        1.Improved performance\n",
    "        2.Responsiveness\n",
    "        3.Resource sharing\n",
    "        4.Modularity\n",
    "        \n",
    "        \n",
    "    Disadvantages:\n",
    "        1.Complexity\n",
    "        2.Synchronization\n",
    "        3.Increased memory usage\n",
    "        4.Overhead"
   ]
  },
  {
   "cell_type": "code",
   "execution_count": null,
   "id": "bc1244b6-d6a6-43f9-9415-4b44e7ccde51",
   "metadata": {},
   "outputs": [],
   "source": [
    "An"
   ]
  }
 ],
 "metadata": {
  "kernelspec": {
   "display_name": "Python 3 (ipykernel)",
   "language": "python",
   "name": "python3"
  },
  "language_info": {
   "codemirror_mode": {
    "name": "ipython",
    "version": 3
   },
   "file_extension": ".py",
   "mimetype": "text/x-python",
   "name": "python",
   "nbconvert_exporter": "python",
   "pygments_lexer": "ipython3",
   "version": "3.10.6"
  }
 },
 "nbformat": 4,
 "nbformat_minor": 5
}
